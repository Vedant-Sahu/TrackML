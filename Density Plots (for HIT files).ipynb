{
 "cells": [
  {
   "cell_type": "code",
   "execution_count": 1,
   "metadata": {},
   "outputs": [],
   "source": [
    "import matplotlib as mp\n",
    "import csv\n",
    "from numpy import genfromtxt\n",
    "import numpy as np\n",
    "import matplotlib.pyplot as plt\n",
    "from scipy.stats import gaussian_kde\n",
    "from scipy.stats import kde\n"
   ]
  },
  {
   "cell_type": "code",
   "execution_count": 3,
   "metadata": {},
   "outputs": [
    {
     "name": "stdout",
     "output_type": "stream",
     "text": [
      "None\n"
     ]
    },
    {
     "data": {
      "image/png": "[encoded data removed]",
      "text/plain": [
       "<matplotlib.figure.Figure at 0x1102b8eb8>"
      ]
     },
     "metadata": {},
     "output_type": "display_data"
    }
   ],
   "source": [
    "my_data = genfromtxt('train_100_events/event000001000-hits.csv', delimiter=',')\n",
    "\n",
    "\n",
    "def volume_dist(filename):\n",
    "\n",
    "    volumes={}\n",
    "    for row in filename[1:]:\n",
    "        if row[4] not in volumes:\n",
    "            volumes[row[4]]=1\n",
    "        else:\n",
    "            volumes[row[4]]= volumes[row[4]]+1\n",
    "    return volumes\n",
    "\n",
    "def layer_dist(filename, volume):\n",
    "\n",
    "    volumes={}\n",
    "\n",
    "    for row in filename[1:]:\n",
    "        if row[4]==volume:\n",
    "            if row[5] not in volumes:\n",
    "                volumes[row[5]]=1\n",
    "            else:\n",
    "                volumes[row[5]]= volumes[row[5]]+1\n",
    "    return volumes\n",
    "\n",
    "def module_dist(filename, volume, layer):\n",
    "     \n",
    "    volumes={}\n",
    "\n",
    "    for row in filename[1:]:\n",
    "         if row[5]==layer and row[4]== volume:\n",
    "            if row[6] not in volumes:\n",
    "                volumes[row[6]]=1\n",
    "            else:\n",
    "                volumes[row[6]]= volumes[row[6]]+1\n",
    "    return volumes\n",
    "\n",
    "def bar_graph(D):\n",
    "    \n",
    "    plt.bar(range(len(D)), list(D.values()), align='center')\n",
    "    plt.xticks(range(len(D)), list(D.keys()))\n",
    "    \n",
    "\n",
    "print(bar_graph(volume_dist(my_data)))\n",
    "\n",
    "    "
   ]
  },
  {
   "cell_type": "markdown",
   "metadata": {},
   "source": [
    "\n"
   ]
  },
  {
   "cell_type": "code",
   "execution_count": 4,
   "metadata": {},
   "outputs": [],
   "source": [
    "#density 2D\n",
    "#precision should be >20\n",
    "\n",
    "def plot_xy_total_density(data, precision):\n",
    "    layer_x=[]\n",
    "    layer_y=[]\n",
    "    for row in data:\n",
    "        layer_x.append(row[1])\n",
    "        layer_y.append(row[2])\n",
    "    x=layer_x\n",
    "    y=layer_y\n",
    "    \n",
    "    plt.hexbin(x, y, gridsize=precision, cmap=plt.cm.BuGn_r)\n",
    "    \n",
    "def plot_xy_volume_density(data, volume, precision):\n",
    "    layer_x=[]\n",
    "    layer_y=[]\n",
    "    for row in data:\n",
    "        if row[4]== volume:\n",
    "            layer_x.append(row[1])\n",
    "            layer_y.append(row[2])\n",
    "    x=layer_x\n",
    "    y=layer_y\n",
    "    \n",
    "    plt.hexbin(x, y, gridsize=precision, cmap=plt.cm.BuGn_r)\n",
    "    \n",
    "\n",
    "    \n",
    "def plot_xy_layer_density(data, volume, layer, precision):\n",
    "    layer_x=[]\n",
    "    layer_y=[]\n",
    "    for row in data:\n",
    "        if row[4]== volume and row[5]==layer:\n",
    "            layer_x.append(row[1])\n",
    "            layer_y.append(row[2])\n",
    "    x=layer_x\n",
    "    y=layer_y\n",
    "    plt.hexbin(x, y, gridsize=precision, cmap=plt.cm.BuGn_r)\n",
    "\n",
    "def plot_xy_module_density(data, volume, layer, module, precision):\n",
    "    layer_x=[]\n",
    "    layer_y=[]\n",
    "    for row in data:\n",
    "        if row[4]== volume and row[5]==layer and row[6]==module:\n",
    "            layer_x.append(row[1])\n",
    "            layer_y.append(row[2])\n",
    "    x=layer_x\n",
    "    y=layer_y\n",
    "    plt.hexbin(x, y, gridsize=precision, cmap=plt.cm.BuGn_r)\n",
    "\n",
    "\n",
    "   "
   ]
  },
  {
   "cell_type": "code",
   "execution_count": null,
   "metadata": {},
   "outputs": [],
   "source": []
  }
 ],
 "metadata": {
  "kernelspec": {
   "display_name": "Python 3",
   "language": "python",
   "name": "python3"
  },
  "language_info": {
   "codemirror_mode": {
    "name": "ipython",
    "version": 3
   },
   "file_extension": ".py",
   "mimetype": "text/x-python",
   "name": "python",
   "nbconvert_exporter": "python",
   "pygments_lexer": "ipython3",
   "version": "3.6.4"
  }
 },
 "nbformat": 4,
 "nbformat_minor": 2
}
